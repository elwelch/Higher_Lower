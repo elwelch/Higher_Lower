{
  "nbformat": 4,
  "nbformat_minor": 0,
  "metadata": {
    "colab": {
      "provenance": []
    },
    "kernelspec": {
      "name": "python3",
      "display_name": "Python 3"
    },
    "language_info": {
      "name": "python"
    }
  },
  "cells": [
    {
      "cell_type": "code",
      "execution_count": 1,
      "metadata": {
        "id": "EHmvXssT4fEY"
      },
      "outputs": [],
      "source": [
        "#higher lower\n",
        "from game_data import data\n",
        "import random\n",
        "#from art import logo,vs"
      ]
    },
    {
      "cell_type": "code",
      "source": [
        "#print(data[1]['name'])\n",
        "#display intro art\n",
        "print(\"Play Higher/Lower!\")\n",
        "#identify 2 options from game_data to determine \"higher and lower\" value between\n",
        "#define a function to randomly select names from data to compare\n",
        "def name_selector():\n",
        "    global name_1,name_2\n",
        "    name_1 = random.choice(data)\n",
        "    name_2 = random.choice(data)\n",
        "    return name_1, name_2"
      ],
      "metadata": {
        "colab": {
          "base_uri": "https://localhost:8080/"
        },
        "id": "pVQQX_GR5NTl",
        "outputId": "94b92d56-d8cf-46d3-82d9-1e5f438b59db"
      },
      "execution_count": 3,
      "outputs": [
        {
          "output_type": "stream",
          "name": "stdout",
          "text": [
            "Play Higher/Lower!\n"
          ]
        }
      ]
    },
    {
      "cell_type": "code",
      "source": [
        "#display name choices\n",
        "def play_game():\n",
        "    name_selector()\n",
        "    streak = True\n",
        "    streak_counter = 0\n",
        "    while streak is True:\n",
        "        name_selector()\n",
        "        print(name_1['name'])\n",
        "        print(\"vs\")\n",
        "        print(name_2['name'])\n",
        "        result = input(\"Who has more followers?\")\n",
        "        if name_1['follower_count'] > name_2['follower_count']:\n",
        "            if result == name_1['name']:\n",
        "                print(\"You win!\")\n",
        "                streak_counter += 1\n",
        "            if result == name_2['name']:\n",
        "                print(\"You lose!\")\n",
        "                print(\"You had a streak of \",streak_counter,\" wins.\")\n",
        "                streak = False\n",
        "                return streak_counter\n",
        "        if name_1['follower_count'] < name_2['follower_count']:\n",
        "            if result == name_2['name']:\n",
        "                print(\"You win!\")\n",
        "                streak_counter += 1\n",
        "            if result == name_1['name']:\n",
        "                print(\"You lose!\")\n",
        "                print(\"You had a streak of \", streak_counter, \" wins.\")\n",
        "                streak = False\n",
        "                return streak_counter\n"
      ],
      "metadata": {
        "id": "Mt8AkQF55QUl"
      },
      "execution_count": 4,
      "outputs": []
    },
    {
      "cell_type": "code",
      "source": [
        "play_game()"
      ],
      "metadata": {
        "colab": {
          "base_uri": "https://localhost:8080/"
        },
        "id": "KfRlBSC75TD3",
        "outputId": "c937dba4-cae0-478b-f4e3-1ac516c038a8"
      },
      "execution_count": 5,
      "outputs": [
        {
          "output_type": "stream",
          "name": "stdout",
          "text": [
            "Victoria's Secret\n",
            "vs\n",
            "Virat Kohli\n",
            "Who has more followers?Victoria's Secret\n",
            "You win!\n",
            "Justin Timberlake\n",
            "vs\n",
            "Vin Diesel\n",
            "Who has more followers?Justin Timberlake\n",
            "You lose!\n",
            "You had a streak of  1  wins.\n"
          ]
        },
        {
          "output_type": "execute_result",
          "data": {
            "text/plain": [
              "1"
            ]
          },
          "metadata": {},
          "execution_count": 5
        }
      ]
    }
  ]
}